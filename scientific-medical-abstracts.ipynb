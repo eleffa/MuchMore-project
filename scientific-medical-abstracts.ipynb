{
 "cells": [
  {
   "cell_type": "code",
   "execution_count": 1,
   "id": "dfd5a243",
   "metadata": {
    "_cell_guid": "b1076dfc-b9ad-4769-8c92-a6c4dae69d19",
    "_uuid": "8f2839f25d086af736a60e9eeb907d3b93b6e0e5",
    "execution": {
     "iopub.execute_input": "2024-12-04T15:23:35.940780Z",
     "iopub.status.busy": "2024-12-04T15:23:35.940253Z",
     "iopub.status.idle": "2024-12-04T15:23:36.852869Z",
     "shell.execute_reply": "2024-12-04T15:23:36.851673Z"
    },
    "papermill": {
     "duration": 0.920142,
     "end_time": "2024-12-04T15:23:36.855305",
     "exception": false,
     "start_time": "2024-12-04T15:23:35.935163",
     "status": "completed"
    },
    "tags": []
   },
   "outputs": [
    {
     "name": "stdout",
     "output_type": "stream",
     "text": [
      "/kaggle/input/muchmoredata/MuchMoreData.csv\n"
     ]
    }
   ],
   "source": [
    "# This Python 3 environment comes with many helpful analytics libraries installed\n",
    "# It is defined by the kaggle/python Docker image: https://github.com/kaggle/docker-python\n",
    "# For example, here's several helpful packages to load\n",
    "\n",
    "import numpy as np # linear algebra\n",
    "import pandas as pd # data processing, CSV file I/O (e.g. pd.read_csv)\n",
    "\n",
    "# Input data files are available in the read-only \"../input/\" directory\n",
    "# For example, running this (by clicking run or pressing Shift+Enter) will list all files under the input directory\n",
    "\n",
    "import os\n",
    "for dirname, _, filenames in os.walk('/kaggle/input'):\n",
    "    for filename in filenames:\n",
    "        print(os.path.join(dirname, filename))\n",
    "\n",
    "# You can write up to 20GB to the current directory (/kaggle/working/) that gets preserved as output when you create a version using \"Save & Run All\" \n",
    "# You can also write temporary files to /kaggle/temp/, but they won't be saved outside of the current session"
   ]
  },
  {
   "cell_type": "markdown",
   "id": "44d4e9fe",
   "metadata": {
    "papermill": {
     "duration": 0.002503,
     "end_time": "2024-12-04T15:23:36.860779",
     "exception": false,
     "start_time": "2024-12-04T15:23:36.858276",
     "status": "completed"
    },
    "tags": []
   },
   "source": [
    "Ce dataset se compose d’abstracts de publications scientifiques médicales, qui traitent de différents domaines: Cardiologie, Ophtalmologie etc. On a donc un problème de classification multiclasses (assigne une seule des classes possibles à un document). La catégorie à laquelle appartient un document correspond à la première partie de son nom.\r\n",
    "\r\n",
    "A partir de ce dataset, nous allo\n",
    "\n",
    "*    \r\n",
    "\r\n",
    "Proposer une analyse exploratoire des éon\n",
    "*    ées\r\n",
    "Présenter et commenter quelques visualisations et métriques pertine*    ntes\r\n",
    "Comparer les performances de deux approches pour la classification des doc :  \r\n",
    "1.   SVM l vs e\r\n",
    "2.   Naiv*    e Bayes\r\n",
    "Proposer une exploration interactive des données et résultats"
   ]
  },
  {
   "cell_type": "markdown",
   "id": "bb721c7d",
   "metadata": {
    "papermill": {
     "duration": 0.002431,
     "end_time": "2024-12-04T15:23:36.865820",
     "exception": false,
     "start_time": "2024-12-04T15:23:36.863389",
     "status": "completed"
    },
    "tags": []
   },
   "source": [
    "# Analyse exploratoire des données"
   ]
  },
  {
   "cell_type": "code",
   "execution_count": null,
   "id": "0d3b5ec3",
   "metadata": {
    "papermill": {
     "duration": 0.00233,
     "end_time": "2024-12-04T15:23:36.870676",
     "exception": false,
     "start_time": "2024-12-04T15:23:36.868346",
     "status": "completed"
    },
    "tags": []
   },
   "outputs": [],
   "source": []
  },
  {
   "cell_type": "markdown",
   "id": "b79c19fe",
   "metadata": {
    "papermill": {
     "duration": 0.002358,
     "end_time": "2024-12-04T15:23:36.875781",
     "exception": false,
     "start_time": "2024-12-04T15:23:36.873423",
     "status": "completed"
    },
    "tags": []
   },
   "source": [
    "# Quelques visualisations et métriques pertinentes"
   ]
  },
  {
   "cell_type": "code",
   "execution_count": null,
   "id": "ff331354",
   "metadata": {
    "papermill": {
     "duration": 0.002445,
     "end_time": "2024-12-04T15:23:36.880874",
     "exception": false,
     "start_time": "2024-12-04T15:23:36.878429",
     "status": "completed"
    },
    "tags": []
   },
   "outputs": [],
   "source": []
  },
  {
   "cell_type": "markdown",
   "id": "a3d07649",
   "metadata": {
    "papermill": {
     "duration": 0.002638,
     "end_time": "2024-12-04T15:23:36.885998",
     "exception": false,
     "start_time": "2024-12-04T15:23:36.883360",
     "status": "completed"
    },
    "tags": []
   },
   "source": [
    "# Comparaisons des performances de SVM linéaire et Naive Bayes"
   ]
  },
  {
   "cell_type": "code",
   "execution_count": null,
   "id": "790fa38b",
   "metadata": {
    "papermill": {
     "duration": 0.00265,
     "end_time": "2024-12-04T15:23:36.891285",
     "exception": false,
     "start_time": "2024-12-04T15:23:36.888635",
     "status": "completed"
    },
    "tags": []
   },
   "outputs": [],
   "source": []
  },
  {
   "cell_type": "markdown",
   "id": "cdfa5452",
   "metadata": {
    "papermill": {
     "duration": 0.003664,
     "end_time": "2024-12-04T15:23:36.897720",
     "exception": false,
     "start_time": "2024-12-04T15:23:36.894056",
     "status": "completed"
    },
    "tags": []
   },
   "source": [
    "# Exploration interactive des données et résultats"
   ]
  },
  {
   "cell_type": "code",
   "execution_count": null,
   "id": "ffb80b12",
   "metadata": {
    "papermill": {
     "duration": 0.002336,
     "end_time": "2024-12-04T15:23:36.902614",
     "exception": false,
     "start_time": "2024-12-04T15:23:36.900278",
     "status": "completed"
    },
    "tags": []
   },
   "outputs": [],
   "source": []
  },
  {
   "cell_type": "markdown",
   "id": "6efbb881",
   "metadata": {
    "papermill": {
     "duration": 0.002284,
     "end_time": "2024-12-04T15:23:36.907437",
     "exception": false,
     "start_time": "2024-12-04T15:23:36.905153",
     "status": "completed"
    },
    "tags": []
   },
   "source": [
    "# Conclusions"
   ]
  },
  {
   "cell_type": "code",
   "execution_count": null,
   "id": "92ab2d2b",
   "metadata": {
    "papermill": {
     "duration": 0.002434,
     "end_time": "2024-12-04T15:23:36.912410",
     "exception": false,
     "start_time": "2024-12-04T15:23:36.909976",
     "status": "completed"
    },
    "tags": []
   },
   "outputs": [],
   "source": []
  }
 ],
 "metadata": {
  "kaggle": {
   "accelerator": "none",
   "dataSources": [
    {
     "datasetId": 6229783,
     "sourceId": 10100573,
     "sourceType": "datasetVersion"
    }
   ],
   "isGpuEnabled": false,
   "isInternetEnabled": true,
   "language": "python",
   "sourceType": "notebook"
  },
  "kernelspec": {
   "display_name": "Python 3",
   "language": "python",
   "name": "python3"
  },
  "language_info": {
   "codemirror_mode": {
    "name": "ipython",
    "version": 3
   },
   "file_extension": ".py",
   "mimetype": "text/x-python",
   "name": "python",
   "nbconvert_exporter": "python",
   "pygments_lexer": "ipython3",
   "version": "3.10.14"
  },
  "papermill": {
   "default_parameters": {},
   "duration": 4.30886,
   "end_time": "2024-12-04T15:23:37.437006",
   "environment_variables": {},
   "exception": null,
   "input_path": "__notebook__.ipynb",
   "output_path": "__notebook__.ipynb",
   "parameters": {},
   "start_time": "2024-12-04T15:23:33.128146",
   "version": "2.6.0"
  }
 },
 "nbformat": 4,
 "nbformat_minor": 5
}
