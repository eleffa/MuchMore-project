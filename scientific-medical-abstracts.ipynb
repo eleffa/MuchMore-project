{
 "cells": [
  {
   "cell_type": "code",
   "execution_count": 1,
   "id": "eab41123",
   "metadata": {
    "_cell_guid": "b1076dfc-b9ad-4769-8c92-a6c4dae69d19",
    "_uuid": "8f2839f25d086af736a60e9eeb907d3b93b6e0e5",
    "execution": {
     "iopub.execute_input": "2024-12-04T16:02:49.296629Z",
     "iopub.status.busy": "2024-12-04T16:02:49.296083Z",
     "iopub.status.idle": "2024-12-04T16:02:50.297194Z",
     "shell.execute_reply": "2024-12-04T16:02:50.296082Z"
    },
    "papermill": {
     "duration": 1.01128,
     "end_time": "2024-12-04T16:02:50.299790",
     "exception": false,
     "start_time": "2024-12-04T16:02:49.288510",
     "status": "completed"
    },
    "tags": []
   },
   "outputs": [
    {
     "name": "stdout",
     "output_type": "stream",
     "text": [
      "/kaggle/input/muchmoredata/MuchMoreData.csv\n"
     ]
    }
   ],
   "source": [
    "# This Python 3 environment comes with many helpful analytics libraries installed\n",
    "# It is defined by the kaggle/python Docker image: https://github.com/kaggle/docker-python\n",
    "# For example, here's several helpful packages to load\n",
    "\n",
    "import numpy as np # linear algebra\n",
    "import pandas as pd # data processing, CSV file I/O (e.g. pd.read_csv)\n",
    "\n",
    "# Input data files are available in the read-only \"../input/\" directory\n",
    "# For example, running this (by clicking run or pressing Shift+Enter) will list all files under the input directory\n",
    "\n",
    "import os\n",
    "for dirname, _, filenames in os.walk('/kaggle/input'):\n",
    "    for filename in filenames:\n",
    "        print(os.path.join(dirname, filename))\n",
    "\n",
    "# You can write up to 20GB to the current directory (/kaggle/working/) that gets preserved as output when you create a version using \"Save & Run All\" \n",
    "# You can also write temporary files to /kaggle/temp/, but they won't be saved outside of the current session"
   ]
  },
  {
   "cell_type": "markdown",
   "id": "4a2a2236",
   "metadata": {
    "papermill": {
     "duration": 0.00452,
     "end_time": "2024-12-04T16:02:50.309361",
     "exception": false,
     "start_time": "2024-12-04T16:02:50.304841",
     "status": "completed"
    },
    "tags": []
   },
   "source": [
    "Ce dataset se compose d’abstracts de publications scientifiques médicales, qui traitent de différents domaines: Cardiologie, Ophtalmologie etc. On a donc un problème de classification multiclasses (assigne une seule des classes possibles à un document). La catégorie à laquelle appartient un document correspond à la première partie de son nom.\r\n",
    "\r\n",
    "A partir de ce dataset, nous allo\n",
    "\n",
    "*    \r\n",
    "\r\n",
    "Proposer une analyse exploratoire des éon\n",
    "*    ées\r\n",
    "Présenter et commenter quelques visualisations et métriques pertine*    ntes\r\n",
    "Comparer les performances de deux approches pour la classification des doc :  \r\n",
    "1.   SVM l vs e\r\n",
    "2.   Naiv*    e Bayes\r\n",
    "Proposer une exploration interactive des données et résultats"
   ]
  },
  {
   "cell_type": "code",
   "execution_count": 2,
   "id": "d926e0bd",
   "metadata": {
    "execution": {
     "iopub.execute_input": "2024-12-04T16:02:50.321011Z",
     "iopub.status.busy": "2024-12-04T16:02:50.320448Z",
     "iopub.status.idle": "2024-12-04T16:03:05.324562Z",
     "shell.execute_reply": "2024-12-04T16:03:05.323302Z"
    },
    "papermill": {
     "duration": 15.01279,
     "end_time": "2024-12-04T16:03:05.327138",
     "exception": false,
     "start_time": "2024-12-04T16:02:50.314348",
     "status": "completed"
    },
    "tags": []
   },
   "outputs": [
    {
     "name": "stdout",
     "output_type": "stream",
     "text": [
      "Collecting swifter\r\n",
      "  Downloading swifter-1.4.0.tar.gz (1.2 MB)\r\n",
      "\u001b[2K     \u001b[90m━━━━━━━━━━━━━━━━━━━━━━━━━━━━━━━━━━━━━━━━\u001b[0m \u001b[32m1.2/1.2 MB\u001b[0m \u001b[31m13.7 MB/s\u001b[0m eta \u001b[36m0:00:00\u001b[0m\r\n",
      "\u001b[?25h  Preparing metadata (setup.py) ... \u001b[?25l-\b \b\\\b \bdone\r\n",
      "\u001b[?25hRequirement already satisfied: pandas>=1.0.0 in /opt/conda/lib/python3.10/site-packages (from swifter) (2.2.3)\r\n",
      "Requirement already satisfied: psutil>=5.6.6 in /opt/conda/lib/python3.10/site-packages (from swifter) (5.9.3)\r\n",
      "Requirement already satisfied: dask>=2.10.0 in /opt/conda/lib/python3.10/site-packages (from dask[dataframe]>=2.10.0->swifter) (2024.11.2)\r\n",
      "Requirement already satisfied: tqdm>=4.33.0 in /opt/conda/lib/python3.10/site-packages (from swifter) (4.66.4)\r\n",
      "Requirement already satisfied: click>=8.1 in /opt/conda/lib/python3.10/site-packages (from dask>=2.10.0->dask[dataframe]>=2.10.0->swifter) (8.1.7)\r\n",
      "Requirement already satisfied: cloudpickle>=3.0.0 in /opt/conda/lib/python3.10/site-packages (from dask>=2.10.0->dask[dataframe]>=2.10.0->swifter) (3.1.0)\r\n",
      "Requirement already satisfied: fsspec>=2021.09.0 in /opt/conda/lib/python3.10/site-packages (from dask>=2.10.0->dask[dataframe]>=2.10.0->swifter) (2024.9.0)\r\n",
      "Requirement already satisfied: packaging>=20.0 in /opt/conda/lib/python3.10/site-packages (from dask>=2.10.0->dask[dataframe]>=2.10.0->swifter) (21.3)\r\n",
      "Requirement already satisfied: partd>=1.4.0 in /opt/conda/lib/python3.10/site-packages (from dask>=2.10.0->dask[dataframe]>=2.10.0->swifter) (1.4.2)\r\n",
      "Requirement already satisfied: pyyaml>=5.3.1 in /opt/conda/lib/python3.10/site-packages (from dask>=2.10.0->dask[dataframe]>=2.10.0->swifter) (6.0.2)\r\n",
      "Requirement already satisfied: toolz>=0.10.0 in /opt/conda/lib/python3.10/site-packages (from dask>=2.10.0->dask[dataframe]>=2.10.0->swifter) (0.12.1)\r\n",
      "Requirement already satisfied: importlib-metadata>=4.13.0 in /opt/conda/lib/python3.10/site-packages (from dask>=2.10.0->dask[dataframe]>=2.10.0->swifter) (7.0.0)\r\n",
      "Requirement already satisfied: dask-expr<1.2,>=1.1 in /opt/conda/lib/python3.10/site-packages (from dask[dataframe]>=2.10.0->swifter) (1.1.19)\r\n",
      "Requirement already satisfied: numpy>=1.22.4 in /opt/conda/lib/python3.10/site-packages (from pandas>=1.0.0->swifter) (1.26.4)\r\n",
      "Requirement already satisfied: python-dateutil>=2.8.2 in /opt/conda/lib/python3.10/site-packages (from pandas>=1.0.0->swifter) (2.9.0.post0)\r\n",
      "Requirement already satisfied: pytz>=2020.1 in /opt/conda/lib/python3.10/site-packages (from pandas>=1.0.0->swifter) (2024.1)\r\n",
      "Requirement already satisfied: tzdata>=2022.7 in /opt/conda/lib/python3.10/site-packages (from pandas>=1.0.0->swifter) (2024.1)\r\n",
      "Requirement already satisfied: pyarrow>=14.0.1 in /opt/conda/lib/python3.10/site-packages (from dask-expr<1.2,>=1.1->dask[dataframe]>=2.10.0->swifter) (18.1.0)\r\n",
      "Requirement already satisfied: zipp>=0.5 in /opt/conda/lib/python3.10/site-packages (from importlib-metadata>=4.13.0->dask>=2.10.0->dask[dataframe]>=2.10.0->swifter) (3.19.2)\r\n",
      "Requirement already satisfied: pyparsing!=3.0.5,>=2.0.2 in /opt/conda/lib/python3.10/site-packages (from packaging>=20.0->dask>=2.10.0->dask[dataframe]>=2.10.0->swifter) (3.1.2)\r\n",
      "Requirement already satisfied: locket in /opt/conda/lib/python3.10/site-packages (from partd>=1.4.0->dask>=2.10.0->dask[dataframe]>=2.10.0->swifter) (1.0.0)\r\n",
      "Requirement already satisfied: six>=1.5 in /opt/conda/lib/python3.10/site-packages (from python-dateutil>=2.8.2->pandas>=1.0.0->swifter) (1.16.0)\r\n",
      "Building wheels for collected packages: swifter\r\n",
      "  Building wheel for swifter (setup.py) ... \u001b[?25l-\b \b\\\b \b|\b \bdone\r\n",
      "\u001b[?25h  Created wheel for swifter: filename=swifter-1.4.0-py3-none-any.whl size=16507 sha256=dbc2f1a5209bd29edfeb61613b9d66dd5d4c165742e4e12b399ff6642ad0d41e\r\n",
      "  Stored in directory: /root/.cache/pip/wheels/e4/cf/51/0904952972ee2c7aa3709437065278dc534ec1b8d2ad41b443\r\n",
      "Successfully built swifter\r\n",
      "Installing collected packages: swifter\r\n",
      "Successfully installed swifter-1.4.0\r\n"
     ]
    }
   ],
   "source": [
    "!pip install swifter"
   ]
  },
  {
   "cell_type": "code",
   "execution_count": 3,
   "id": "735f0b34",
   "metadata": {
    "execution": {
     "iopub.execute_input": "2024-12-04T16:03:05.342297Z",
     "iopub.status.busy": "2024-12-04T16:03:05.341892Z",
     "iopub.status.idle": "2024-12-04T16:03:11.354806Z",
     "shell.execute_reply": "2024-12-04T16:03:11.353657Z"
    },
    "papermill": {
     "duration": 6.022545,
     "end_time": "2024-12-04T16:03:11.356914",
     "exception": false,
     "start_time": "2024-12-04T16:03:05.334369",
     "status": "completed"
    },
    "tags": []
   },
   "outputs": [
    {
     "name": "stdout",
     "output_type": "stream",
     "text": [
      "[nltk_data] Downloading package punkt to /usr/share/nltk_data...\n",
      "[nltk_data]   Package punkt is already up-to-date!\n"
     ]
    },
    {
     "data": {
      "text/plain": [
       "True"
      ]
     },
     "execution_count": 3,
     "metadata": {},
     "output_type": "execute_result"
    }
   ],
   "source": [
    "import pandas as pd\n",
    "import os\n",
    "import glob\n",
    "import re\n",
    "import matplotlib.pyplot as plt\n",
    "import seaborn as sns\n",
    "import string\n",
    "from wordcloud import WordCloud,STOPWORDS\n",
    "from nltk.tokenize import word_tokenize\n",
    "from collections import defaultdict\n",
    "from collections import Counter\n",
    "#from plotly import tools\n",
    "#import plotly.offline as py\n",
    "#py.init_notebook_mode(connected=True)\n",
    "#import plotly.graph_objs as go\n",
    "\n",
    "#from pandarallel import pandarallel\n",
    "#pandarallel.initialize(progress_bar=True)\n",
    "\n",
    "import swifter\n",
    "from sklearn.decomposition import PCA\n",
    "\n",
    "import nltk\n",
    "nltk.download('punkt')"
   ]
  },
  {
   "cell_type": "markdown",
   "id": "6c8ca8c6",
   "metadata": {
    "papermill": {
     "duration": 0.005778,
     "end_time": "2024-12-04T16:03:11.368931",
     "exception": false,
     "start_time": "2024-12-04T16:03:11.363153",
     "status": "completed"
    },
    "tags": []
   },
   "source": [
    "# Analyse exploratoire des données"
   ]
  },
  {
   "cell_type": "markdown",
   "id": "bb7132fe",
   "metadata": {
    "papermill": {
     "duration": 0.005694,
     "end_time": "2024-12-04T16:03:11.380621",
     "exception": false,
     "start_time": "2024-12-04T16:03:11.374927",
     "status": "completed"
    },
    "tags": []
   },
   "source": [
    "## Nombre total de documents"
   ]
  },
  {
   "cell_type": "code",
   "execution_count": 4,
   "id": "01443d58",
   "metadata": {
    "execution": {
     "iopub.execute_input": "2024-12-04T16:03:11.394634Z",
     "iopub.status.busy": "2024-12-04T16:03:11.394220Z",
     "iopub.status.idle": "2024-12-04T16:03:11.603317Z",
     "shell.execute_reply": "2024-12-04T16:03:11.602180Z"
    },
    "papermill": {
     "duration": 0.218943,
     "end_time": "2024-12-04T16:03:11.605786",
     "exception": false,
     "start_time": "2024-12-04T16:03:11.386843",
     "status": "completed"
    },
    "tags": []
   },
   "outputs": [
    {
     "data": {
      "text/plain": [
       "7823"
      ]
     },
     "execution_count": 4,
     "metadata": {},
     "output_type": "execute_result"
    }
   ],
   "source": [
    "df = pd.read_csv(\"/kaggle/input/muchmoredata/MuchMoreData.csv\")\n",
    "df.shape[0]"
   ]
  },
  {
   "cell_type": "markdown",
   "id": "106e3d0d",
   "metadata": {
    "papermill": {
     "duration": 0.005899,
     "end_time": "2024-12-04T16:03:11.617953",
     "exception": false,
     "start_time": "2024-12-04T16:03:11.612054",
     "status": "completed"
    },
    "tags": []
   },
   "source": [
    "## Répartition des classes (nombre de documents par catégorie)."
   ]
  },
  {
   "cell_type": "code",
   "execution_count": 5,
   "id": "2f761074",
   "metadata": {
    "execution": {
     "iopub.execute_input": "2024-12-04T16:03:11.631998Z",
     "iopub.status.busy": "2024-12-04T16:03:11.631521Z",
     "iopub.status.idle": "2024-12-04T16:03:11.691272Z",
     "shell.execute_reply": "2024-12-04T16:03:11.690163Z"
    },
    "papermill": {
     "duration": 0.069404,
     "end_time": "2024-12-04T16:03:11.693509",
     "exception": false,
     "start_time": "2024-12-04T16:03:11.624105",
     "status": "completed"
    },
    "tags": []
   },
   "outputs": [
    {
     "data": {
      "application/vnd.jupyter.widget-view+json": {
       "model_id": "1dea50c9a19a44a9bf812b7b2cf3a1e5",
       "version_major": 2,
       "version_minor": 0
      },
      "text/plain": [
       "Pandas Apply:   0%|          | 0/7823 [00:00<?, ?it/s]"
      ]
     },
     "metadata": {},
     "output_type": "display_data"
    },
    {
     "name": "stdout",
     "output_type": "stream",
     "text": [
      "(7823, 4)\n"
     ]
    },
    {
     "data": {
      "text/html": [
       "<div>\n",
       "<style scoped>\n",
       "    .dataframe tbody tr th:only-of-type {\n",
       "        vertical-align: middle;\n",
       "    }\n",
       "\n",
       "    .dataframe tbody tr th {\n",
       "        vertical-align: top;\n",
       "    }\n",
       "\n",
       "    .dataframe thead th {\n",
       "        text-align: right;\n",
       "    }\n",
       "</style>\n",
       "<table border=\"1\" class=\"dataframe\">\n",
       "  <thead>\n",
       "    <tr style=\"text-align: right;\">\n",
       "      <th></th>\n",
       "      <th>Unnamed: 0</th>\n",
       "      <th>category</th>\n",
       "      <th>content</th>\n",
       "      <th>clean_category</th>\n",
       "    </tr>\n",
       "  </thead>\n",
       "  <tbody>\n",
       "    <tr>\n",
       "      <th>0</th>\n",
       "      <td>0</td>\n",
       "      <td>Arthroskopie.00130003.eng.abstr</td>\n",
       "      <td>The posterior cruciate ligament (PCL) is the s...</td>\n",
       "      <td>Arthroskopie</td>\n",
       "    </tr>\n",
       "    <tr>\n",
       "      <th>1</th>\n",
       "      <td>1</td>\n",
       "      <td>Arthroskopie.00130011.eng.abstr</td>\n",
       "      <td>An investigation of 122 knee joints was perfor...</td>\n",
       "      <td>Arthroskopie</td>\n",
       "    </tr>\n",
       "    <tr>\n",
       "      <th>2</th>\n",
       "      <td>2</td>\n",
       "      <td>Arthroskopie.00130017.eng.abstr</td>\n",
       "      <td>This article discusses the surgical treatment ...</td>\n",
       "      <td>Arthroskopie</td>\n",
       "    </tr>\n",
       "    <tr>\n",
       "      <th>3</th>\n",
       "      <td>3</td>\n",
       "      <td>Arthroskopie.00130030.eng.abstr</td>\n",
       "      <td>The treatment of acute posterior instabilities...</td>\n",
       "      <td>Arthroskopie</td>\n",
       "    </tr>\n",
       "    <tr>\n",
       "      <th>4</th>\n",
       "      <td>4</td>\n",
       "      <td>Arthroskopie.00130035.eng.abstr</td>\n",
       "      <td>Since 1989, 99 people presenting with posterio...</td>\n",
       "      <td>Arthroskopie</td>\n",
       "    </tr>\n",
       "  </tbody>\n",
       "</table>\n",
       "</div>"
      ],
      "text/plain": [
       "   Unnamed: 0                         category  \\\n",
       "0           0  Arthroskopie.00130003.eng.abstr   \n",
       "1           1  Arthroskopie.00130011.eng.abstr   \n",
       "2           2  Arthroskopie.00130017.eng.abstr   \n",
       "3           3  Arthroskopie.00130030.eng.abstr   \n",
       "4           4  Arthroskopie.00130035.eng.abstr   \n",
       "\n",
       "                                             content clean_category  \n",
       "0  The posterior cruciate ligament (PCL) is the s...   Arthroskopie  \n",
       "1  An investigation of 122 knee joints was perfor...   Arthroskopie  \n",
       "2  This article discusses the surgical treatment ...   Arthroskopie  \n",
       "3  The treatment of acute posterior instabilities...   Arthroskopie  \n",
       "4  Since 1989, 99 people presenting with posterio...   Arthroskopie  "
      ]
     },
     "execution_count": 5,
     "metadata": {},
     "output_type": "execute_result"
    }
   ],
   "source": [
    "df['clean_category'] = df['category'].swifter.apply(lambda x: x.split('.')[0])\n",
    "print(df.shape)\n",
    "df.head()"
   ]
  },
  {
   "cell_type": "code",
   "execution_count": 6,
   "id": "dd588af0",
   "metadata": {
    "execution": {
     "iopub.execute_input": "2024-12-04T16:03:11.708379Z",
     "iopub.status.busy": "2024-12-04T16:03:11.707971Z",
     "iopub.status.idle": "2024-12-04T16:03:11.725037Z",
     "shell.execute_reply": "2024-12-04T16:03:11.724003Z"
    },
    "papermill": {
     "duration": 0.027066,
     "end_time": "2024-12-04T16:03:11.727243",
     "exception": false,
     "start_time": "2024-12-04T16:03:11.700177",
     "status": "completed"
    },
    "tags": []
   },
   "outputs": [
    {
     "name": "stdout",
     "output_type": "stream",
     "text": [
      "39\n"
     ]
    },
    {
     "data": {
      "text/plain": [
       "clean_category\n",
       "DerHautarzt                        693\n",
       "DerChirurg                         684\n",
       "DerAnaesthesist                    539\n",
       "DerNervenarzt                      493\n",
       "DerRadiologe                       477\n",
       "ZfuerKardiologie                   434\n",
       "DerUnfallchirurg                   403\n",
       "DerOpthalmologe                    399\n",
       "DerOrthopaede                      356\n",
       "MonatsschriftKinderheilkunde       355\n",
       "HNO                                312\n",
       "DerPathologe                       294\n",
       "IntensiveMedizin                   242\n",
       "MundKieferGesichtschirurgie        231\n",
       "DerUrologeA                        224\n",
       "ZfuerRheumatologie                 153\n",
       "DerSchmerz                         140\n",
       "ZfuerGerontologie+Geriatrie        137\n",
       "DerGynaekologe                     133\n",
       "Psychotherapeut                    122\n",
       "Gefaesschirurgie                   106\n",
       "Rechtsmedizin                      101\n",
       "Arthroskopie                        95\n",
       "ZfuerHerzThoraxGefaesschirurgie     93\n",
       "Herzschrittmachertherapie           77\n",
       "Bundesgesundheitsblatt              76\n",
       "Reproduktionsmedizin                60\n",
       "Herz                                54\n",
       "ManuelleMedizin                     51\n",
       "ForumDerPsychoanalyse               48\n",
       "Notfall+Rettungsmedizin             44\n",
       "MedizinischeKlinik                  37\n",
       "Strahlentherapie+Onkologie          36\n",
       "Trauma+Berufskrankheit              36\n",
       "PerinatalMedizin                    28\n",
       "EthikInDerMedizin                   27\n",
       "OperativeOrthopaedie                21\n",
       "KlinischeNeuroradiologie            10\n",
       "DerInternist                         2\n",
       "Name: count, dtype: int64"
      ]
     },
     "execution_count": 6,
     "metadata": {},
     "output_type": "execute_result"
    }
   ],
   "source": [
    "print(len(df['clean_category'].value_counts()))\n",
    "df['clean_category'].value_counts()"
   ]
  },
  {
   "cell_type": "code",
   "execution_count": 7,
   "id": "9df485cf",
   "metadata": {
    "execution": {
     "iopub.execute_input": "2024-12-04T16:03:11.742542Z",
     "iopub.status.busy": "2024-12-04T16:03:11.742084Z",
     "iopub.status.idle": "2024-12-04T16:03:12.418101Z",
     "shell.execute_reply": "2024-12-04T16:03:12.416882Z"
    },
    "papermill": {
     "duration": 0.687519,
     "end_time": "2024-12-04T16:03:12.421411",
     "exception": false,
     "start_time": "2024-12-04T16:03:11.733892",
     "status": "completed"
    },
    "tags": []
   },
   "outputs": [
    {
     "data": {
      "image/png": "[encoded data removed]",
      "text/plain": [
       "<Figure size 640x480 with 1 Axes>"
      ]
     },
     "metadata": {},
     "output_type": "display_data"
    }
   ],
   "source": [
    "import matplotlib.pyplot as plt\n",
    "\n",
    "df['clean_category'].value_counts().plot(kind='barh')\n",
    "plt.ylabel('Count')\n",
    "plt.xlabel('Category')\n",
    "_ = plt.title('Distribution des Categories')"
   ]
  },
  {
   "cell_type": "markdown",
   "id": "4bc6bf07",
   "metadata": {
    "papermill": {
     "duration": 0.008397,
     "end_time": "2024-12-04T16:03:12.439258",
     "exception": false,
     "start_time": "2024-12-04T16:03:12.430861",
     "status": "completed"
    },
    "tags": []
   },
   "source": [
    "## Distribution des langues"
   ]
  },
  {
   "cell_type": "code",
   "execution_count": 8,
   "id": "4007f843",
   "metadata": {
    "execution": {
     "iopub.execute_input": "2024-12-04T16:03:12.458066Z",
     "iopub.status.busy": "2024-12-04T16:03:12.457640Z",
     "iopub.status.idle": "2024-12-04T16:03:12.507710Z",
     "shell.execute_reply": "2024-12-04T16:03:12.506525Z"
    },
    "papermill": {
     "duration": 0.063445,
     "end_time": "2024-12-04T16:03:12.511208",
     "exception": false,
     "start_time": "2024-12-04T16:03:12.447763",
     "status": "completed"
    },
    "tags": []
   },
   "outputs": [
    {
     "data": {
      "application/vnd.jupyter.widget-view+json": {
       "model_id": "e1c7f1e76eb440a28f948faecb0bbb81",
       "version_major": 2,
       "version_minor": 0
      },
      "text/plain": [
       "Pandas Apply:   0%|          | 0/7823 [00:00<?, ?it/s]"
      ]
     },
     "metadata": {},
     "output_type": "display_data"
    },
    {
     "data": {
      "text/html": [
       "<div>\n",
       "<style scoped>\n",
       "    .dataframe tbody tr th:only-of-type {\n",
       "        vertical-align: middle;\n",
       "    }\n",
       "\n",
       "    .dataframe tbody tr th {\n",
       "        vertical-align: top;\n",
       "    }\n",
       "\n",
       "    .dataframe thead th {\n",
       "        text-align: right;\n",
       "    }\n",
       "</style>\n",
       "<table border=\"1\" class=\"dataframe\">\n",
       "  <thead>\n",
       "    <tr style=\"text-align: right;\">\n",
       "      <th></th>\n",
       "      <th>Unnamed: 0</th>\n",
       "      <th>category</th>\n",
       "      <th>content</th>\n",
       "      <th>clean_category</th>\n",
       "      <th>lang</th>\n",
       "    </tr>\n",
       "  </thead>\n",
       "  <tbody>\n",
       "    <tr>\n",
       "      <th>0</th>\n",
       "      <td>0</td>\n",
       "      <td>Arthroskopie.00130003.eng.abstr</td>\n",
       "      <td>The posterior cruciate ligament (PCL) is the s...</td>\n",
       "      <td>Arthroskopie</td>\n",
       "      <td>eng</td>\n",
       "    </tr>\n",
       "    <tr>\n",
       "      <th>1</th>\n",
       "      <td>1</td>\n",
       "      <td>Arthroskopie.00130011.eng.abstr</td>\n",
       "      <td>An investigation of 122 knee joints was perfor...</td>\n",
       "      <td>Arthroskopie</td>\n",
       "      <td>eng</td>\n",
       "    </tr>\n",
       "    <tr>\n",
       "      <th>2</th>\n",
       "      <td>2</td>\n",
       "      <td>Arthroskopie.00130017.eng.abstr</td>\n",
       "      <td>This article discusses the surgical treatment ...</td>\n",
       "      <td>Arthroskopie</td>\n",
       "      <td>eng</td>\n",
       "    </tr>\n",
       "    <tr>\n",
       "      <th>3</th>\n",
       "      <td>3</td>\n",
       "      <td>Arthroskopie.00130030.eng.abstr</td>\n",
       "      <td>The treatment of acute posterior instabilities...</td>\n",
       "      <td>Arthroskopie</td>\n",
       "      <td>eng</td>\n",
       "    </tr>\n",
       "    <tr>\n",
       "      <th>4</th>\n",
       "      <td>4</td>\n",
       "      <td>Arthroskopie.00130035.eng.abstr</td>\n",
       "      <td>Since 1989, 99 people presenting with posterio...</td>\n",
       "      <td>Arthroskopie</td>\n",
       "      <td>eng</td>\n",
       "    </tr>\n",
       "  </tbody>\n",
       "</table>\n",
       "</div>"
      ],
      "text/plain": [
       "   Unnamed: 0                         category  \\\n",
       "0           0  Arthroskopie.00130003.eng.abstr   \n",
       "1           1  Arthroskopie.00130011.eng.abstr   \n",
       "2           2  Arthroskopie.00130017.eng.abstr   \n",
       "3           3  Arthroskopie.00130030.eng.abstr   \n",
       "4           4  Arthroskopie.00130035.eng.abstr   \n",
       "\n",
       "                                             content clean_category lang  \n",
       "0  The posterior cruciate ligament (PCL) is the s...   Arthroskopie  eng  \n",
       "1  An investigation of 122 knee joints was perfor...   Arthroskopie  eng  \n",
       "2  This article discusses the surgical treatment ...   Arthroskopie  eng  \n",
       "3  The treatment of acute posterior instabilities...   Arthroskopie  eng  \n",
       "4  Since 1989, 99 people presenting with posterio...   Arthroskopie  eng  "
      ]
     },
     "execution_count": 8,
     "metadata": {},
     "output_type": "execute_result"
    }
   ],
   "source": [
    "df['lang'] = df['category'].swifter.apply(lambda x: x.split('.')[2])\n",
    "df.head()"
   ]
  },
  {
   "cell_type": "code",
   "execution_count": 9,
   "id": "5aabc06f",
   "metadata": {
    "execution": {
     "iopub.execute_input": "2024-12-04T16:03:12.530088Z",
     "iopub.status.busy": "2024-12-04T16:03:12.529683Z",
     "iopub.status.idle": "2024-12-04T16:03:12.541278Z",
     "shell.execute_reply": "2024-12-04T16:03:12.540044Z"
    },
    "papermill": {
     "duration": 0.023516,
     "end_time": "2024-12-04T16:03:12.543398",
     "exception": false,
     "start_time": "2024-12-04T16:03:12.519882",
     "status": "completed"
    },
    "tags": []
   },
   "outputs": [
    {
     "name": "stdout",
     "output_type": "stream",
     "text": [
      "1\n"
     ]
    },
    {
     "data": {
      "text/plain": [
       "lang\n",
       "eng    7823\n",
       "Name: count, dtype: int64"
      ]
     },
     "execution_count": 9,
     "metadata": {},
     "output_type": "execute_result"
    }
   ],
   "source": [
    "print(len(df['lang'].value_counts()))\n",
    "df['lang'].value_counts()"
   ]
  },
  {
   "cell_type": "markdown",
   "id": "bc708966",
   "metadata": {
    "papermill": {
     "duration": 0.009114,
     "end_time": "2024-12-04T16:03:12.561223",
     "exception": false,
     "start_time": "2024-12-04T16:03:12.552109",
     "status": "completed"
    },
    "tags": []
   },
   "source": [
    "## Longueur moyenne des abstracts"
   ]
  },
  {
   "cell_type": "code",
   "execution_count": 10,
   "id": "078c2e90",
   "metadata": {
    "execution": {
     "iopub.execute_input": "2024-12-04T16:03:12.580395Z",
     "iopub.status.busy": "2024-12-04T16:03:12.580012Z",
     "iopub.status.idle": "2024-12-04T16:03:12.785713Z",
     "shell.execute_reply": "2024-12-04T16:03:12.784615Z"
    },
    "papermill": {
     "duration": 0.21849,
     "end_time": "2024-12-04T16:03:12.788366",
     "exception": false,
     "start_time": "2024-12-04T16:03:12.569876",
     "status": "completed"
    },
    "tags": []
   },
   "outputs": [
    {
     "data": {
      "text/html": [
       "<div>\n",
       "<style scoped>\n",
       "    .dataframe tbody tr th:only-of-type {\n",
       "        vertical-align: middle;\n",
       "    }\n",
       "\n",
       "    .dataframe tbody tr th {\n",
       "        vertical-align: top;\n",
       "    }\n",
       "\n",
       "    .dataframe thead th {\n",
       "        text-align: right;\n",
       "    }\n",
       "</style>\n",
       "<table border=\"1\" class=\"dataframe\">\n",
       "  <thead>\n",
       "    <tr style=\"text-align: right;\">\n",
       "      <th></th>\n",
       "      <th>Unnamed: 0</th>\n",
       "      <th>category</th>\n",
       "      <th>content</th>\n",
       "      <th>clean_category</th>\n",
       "      <th>lang</th>\n",
       "      <th>content_length</th>\n",
       "    </tr>\n",
       "  </thead>\n",
       "  <tbody>\n",
       "    <tr>\n",
       "      <th>0</th>\n",
       "      <td>0</td>\n",
       "      <td>Arthroskopie.00130003.eng.abstr</td>\n",
       "      <td>The posterior cruciate ligament (PCL) is the s...</td>\n",
       "      <td>Arthroskopie</td>\n",
       "      <td>eng</td>\n",
       "      <td>343</td>\n",
       "    </tr>\n",
       "    <tr>\n",
       "      <th>1</th>\n",
       "      <td>1</td>\n",
       "      <td>Arthroskopie.00130011.eng.abstr</td>\n",
       "      <td>An investigation of 122 knee joints was perfor...</td>\n",
       "      <td>Arthroskopie</td>\n",
       "      <td>eng</td>\n",
       "      <td>138</td>\n",
       "    </tr>\n",
       "    <tr>\n",
       "      <th>2</th>\n",
       "      <td>2</td>\n",
       "      <td>Arthroskopie.00130017.eng.abstr</td>\n",
       "      <td>This article discusses the surgical treatment ...</td>\n",
       "      <td>Arthroskopie</td>\n",
       "      <td>eng</td>\n",
       "      <td>209</td>\n",
       "    </tr>\n",
       "    <tr>\n",
       "      <th>3</th>\n",
       "      <td>3</td>\n",
       "      <td>Arthroskopie.00130030.eng.abstr</td>\n",
       "      <td>The treatment of acute posterior instabilities...</td>\n",
       "      <td>Arthroskopie</td>\n",
       "      <td>eng</td>\n",
       "      <td>56</td>\n",
       "    </tr>\n",
       "    <tr>\n",
       "      <th>4</th>\n",
       "      <td>4</td>\n",
       "      <td>Arthroskopie.00130035.eng.abstr</td>\n",
       "      <td>Since 1989, 99 people presenting with posterio...</td>\n",
       "      <td>Arthroskopie</td>\n",
       "      <td>eng</td>\n",
       "      <td>165</td>\n",
       "    </tr>\n",
       "  </tbody>\n",
       "</table>\n",
       "</div>"
      ],
      "text/plain": [
       "   Unnamed: 0                         category  \\\n",
       "0           0  Arthroskopie.00130003.eng.abstr   \n",
       "1           1  Arthroskopie.00130011.eng.abstr   \n",
       "2           2  Arthroskopie.00130017.eng.abstr   \n",
       "3           3  Arthroskopie.00130030.eng.abstr   \n",
       "4           4  Arthroskopie.00130035.eng.abstr   \n",
       "\n",
       "                                             content clean_category lang  \\\n",
       "0  The posterior cruciate ligament (PCL) is the s...   Arthroskopie  eng   \n",
       "1  An investigation of 122 knee joints was perfor...   Arthroskopie  eng   \n",
       "2  This article discusses the surgical treatment ...   Arthroskopie  eng   \n",
       "3  The treatment of acute posterior instabilities...   Arthroskopie  eng   \n",
       "4  Since 1989, 99 people presenting with posterio...   Arthroskopie  eng   \n",
       "\n",
       "   content_length  \n",
       "0             343  \n",
       "1             138  \n",
       "2             209  \n",
       "3              56  \n",
       "4             165  "
      ]
     },
     "execution_count": 10,
     "metadata": {},
     "output_type": "execute_result"
    }
   ],
   "source": [
    "def cal_len(data):\n",
    "    return len(data)\n",
    "\n",
    "df['content_length']= df['content'].str.split().apply(lambda z:cal_len(z))\n",
    "df.head()"
   ]
  },
  {
   "cell_type": "code",
   "execution_count": 11,
   "id": "58870719",
   "metadata": {
    "execution": {
     "iopub.execute_input": "2024-12-04T16:03:12.807985Z",
     "iopub.status.busy": "2024-12-04T16:03:12.807602Z",
     "iopub.status.idle": "2024-12-04T16:03:12.818887Z",
     "shell.execute_reply": "2024-12-04T16:03:12.817787Z"
    },
    "papermill": {
     "duration": 0.023709,
     "end_time": "2024-12-04T16:03:12.821174",
     "exception": false,
     "start_time": "2024-12-04T16:03:12.797465",
     "status": "completed"
    },
    "tags": []
   },
   "outputs": [
    {
     "data": {
      "text/plain": [
       "content_length\n",
       "96     56\n",
       "87     54\n",
       "97     52\n",
       "61     51\n",
       "104    50\n",
       "       ..\n",
       "525     1\n",
       "485     1\n",
       "474     1\n",
       "571     1\n",
       "344     1\n",
       "Name: count, Length: 478, dtype: int64"
      ]
     },
     "execution_count": 11,
     "metadata": {},
     "output_type": "execute_result"
    }
   ],
   "source": [
    "df['content_length'].value_counts()"
   ]
  },
  {
   "cell_type": "markdown",
   "id": "7b6812a6",
   "metadata": {
    "papermill": {
     "duration": 0.0088,
     "end_time": "2024-12-04T16:03:12.839147",
     "exception": false,
     "start_time": "2024-12-04T16:03:12.830347",
     "status": "completed"
    },
    "tags": []
   },
   "source": [
    "# Quelques visualisations et métriques pertinentes"
   ]
  },
  {
   "cell_type": "code",
   "execution_count": null,
   "id": "64e03173",
   "metadata": {
    "papermill": {
     "duration": 0.00871,
     "end_time": "2024-12-04T16:03:12.856869",
     "exception": false,
     "start_time": "2024-12-04T16:03:12.848159",
     "status": "completed"
    },
    "tags": []
   },
   "outputs": [],
   "source": []
  },
  {
   "cell_type": "markdown",
   "id": "654950d0",
   "metadata": {
    "papermill": {
     "duration": 0.008529,
     "end_time": "2024-12-04T16:03:12.874435",
     "exception": false,
     "start_time": "2024-12-04T16:03:12.865906",
     "status": "completed"
    },
    "tags": []
   },
   "source": [
    "# Comparaisons des performances de SVM linéaire et Naive Bayes"
   ]
  },
  {
   "cell_type": "code",
   "execution_count": null,
   "id": "dadf58c0",
   "metadata": {
    "papermill": {
     "duration": 0.00961,
     "end_time": "2024-12-04T16:03:12.893078",
     "exception": false,
     "start_time": "2024-12-04T16:03:12.883468",
     "status": "completed"
    },
    "tags": []
   },
   "outputs": [],
   "source": []
  },
  {
   "cell_type": "markdown",
   "id": "64e8a726",
   "metadata": {
    "papermill": {
     "duration": 0.008617,
     "end_time": "2024-12-04T16:03:12.911270",
     "exception": false,
     "start_time": "2024-12-04T16:03:12.902653",
     "status": "completed"
    },
    "tags": []
   },
   "source": [
    "# Exploration interactive des données et résultats"
   ]
  },
  {
   "cell_type": "code",
   "execution_count": null,
   "id": "970ced24",
   "metadata": {
    "papermill": {
     "duration": 0.008955,
     "end_time": "2024-12-04T16:03:12.929086",
     "exception": false,
     "start_time": "2024-12-04T16:03:12.920131",
     "status": "completed"
    },
    "tags": []
   },
   "outputs": [],
   "source": []
  },
  {
   "cell_type": "markdown",
   "id": "0a3b63cf",
   "metadata": {
    "papermill": {
     "duration": 0.008657,
     "end_time": "2024-12-04T16:03:12.947056",
     "exception": false,
     "start_time": "2024-12-04T16:03:12.938399",
     "status": "completed"
    },
    "tags": []
   },
   "source": [
    "# Conclusions"
   ]
  },
  {
   "cell_type": "code",
   "execution_count": null,
   "id": "16cf5bc8",
   "metadata": {
    "papermill": {
     "duration": 0.008631,
     "end_time": "2024-12-04T16:03:12.964550",
     "exception": false,
     "start_time": "2024-12-04T16:03:12.955919",
     "status": "completed"
    },
    "tags": []
   },
   "outputs": [],
   "source": []
  }
 ],
 "metadata": {
  "kaggle": {
   "accelerator": "none",
   "dataSources": [
    {
     "datasetId": 6229783,
     "sourceId": 10100573,
     "sourceType": "datasetVersion"
    }
   ],
   "dockerImageVersionId": 30804,
   "isGpuEnabled": false,
   "isInternetEnabled": true,
   "language": "python",
   "sourceType": "notebook"
  },
  "kernelspec": {
   "display_name": "Python 3",
   "language": "python",
   "name": "python3"
  },
  "language_info": {
   "codemirror_mode": {
    "name": "ipython",
    "version": 3
   },
   "file_extension": ".py",
   "mimetype": "text/x-python",
   "name": "python",
   "nbconvert_exporter": "python",
   "pygments_lexer": "ipython3",
   "version": "3.10.14"
  },
  "papermill": {
   "default_parameters": {},
   "duration": 27.604834,
   "end_time": "2024-12-04T16:03:13.997541",
   "environment_variables": {},
   "exception": null,
   "input_path": "__notebook__.ipynb",
   "output_path": "__notebook__.ipynb",
   "parameters": {},
   "start_time": "2024-12-04T16:02:46.392707",
   "version": "2.6.0"
  },
  "widgets": {
   "application/vnd.jupyter.widget-state+json": {
    "state": {
     "02f23607f48640508455685d2fe6a608": {
      "model_module": "@jupyter-widgets/controls",
      "model_module_version": "2.0.0",
      "model_name": "ProgressStyleModel",
      "state": {
       "_model_module": "@jupyter-widgets/controls",
       "_model_module_version": "2.0.0",
       "_model_name": "ProgressStyleModel",
       "_view_count": null,
       "_view_module": "@jupyter-widgets/base",
       "_view_module_version": "2.0.0",
       "_view_name": "StyleView",
       "bar_color": null,
       "description_width": ""
      }
     },
     "170e4064f322472a89f4988c5a7ce66e": {
      "model_module": "@jupyter-widgets/controls",
      "model_module_version": "2.0.0",
      "model_name": "FloatProgressModel",
      "state": {
       "_dom_classes": [],
       "_model_module": "@jupyter-widgets/controls",
       "_model_module_version": "2.0.0",
       "_model_name": "FloatProgressModel",
       "_view_count": null,
       "_view_module": "@jupyter-widgets/controls",
       "_view_module_version": "2.0.0",
       "_view_name": "ProgressView",
       "bar_style": "success",
       "description": "",
       "description_allow_html": false,
       "layout": "IPY_MODEL_a1f39ca6dd844b388f3f197a57181b43",
       "max": 7823.0,
       "min": 0.0,
       "orientation": "horizontal",
       "style": "IPY_MODEL_02f23607f48640508455685d2fe6a608",
       "tabbable": null,
       "tooltip": null,
       "value": 7823.0
      }
     },
     "1dea50c9a19a44a9bf812b7b2cf3a1e5": {
      "model_module": "@jupyter-widgets/controls",
      "model_module_version": "2.0.0",
      "model_name": "HBoxModel",
      "state": {
       "_dom_classes": [],
       "_model_module": "@jupyter-widgets/controls",
       "_model_module_version": "2.0.0",
       "_model_name": "HBoxModel",
       "_view_count": null,
       "_view_module": "@jupyter-widgets/controls",
       "_view_module_version": "2.0.0",
       "_view_name": "HBoxView",
       "box_style": "",
       "children": [
        "IPY_MODEL_819892d097c84b5bbf355ca70ee061d7",
        "IPY_MODEL_170e4064f322472a89f4988c5a7ce66e",
        "IPY_MODEL_69396ad45bcf45d4a9681773da3e40d4"
       ],
       "layout": "IPY_MODEL_dd347a3f1d4a46ee899249a4e38b213c",
       "tabbable": null,
       "tooltip": null
      }
     },
     "26dab1dc47b24bde9e4e4b893f40ae2e": {
      "model_module": "@jupyter-widgets/base",
      "model_module_version": "2.0.0",
      "model_name": "LayoutModel",
      "state": {
       "_model_module": "@jupyter-widgets/base",
       "_model_module_version": "2.0.0",
       "_model_name": "LayoutModel",
       "_view_count": null,
       "_view_module": "@jupyter-widgets/base",
       "_view_module_version": "2.0.0",
       "_view_name": "LayoutView",
       "align_content": null,
       "align_items": null,
       "align_self": null,
       "border_bottom": null,
       "border_left": null,
       "border_right": null,
       "border_top": null,
       "bottom": null,
       "display": null,
       "flex": null,
       "flex_flow": null,
       "grid_area": null,
       "grid_auto_columns": null,
       "grid_auto_flow": null,
       "grid_auto_rows": null,
       "grid_column": null,
       "grid_gap": null,
       "grid_row": null,
       "grid_template_areas": null,
       "grid_template_columns": null,
       "grid_template_rows": null,
       "height": null,
       "justify_content": null,
       "justify_items": null,
       "left": null,
       "margin": null,
       "max_height": null,
       "max_width": null,
       "min_height": null,
       "min_width": null,
       "object_fit": null,
       "object_position": null,
       "order": null,
       "overflow": null,
       "padding": null,
       "right": null,
       "top": null,
       "visibility": null,
       "width": null
      }
     },
     "49260c5ed7e44d9a926bb91e99968793": {
      "model_module": "@jupyter-widgets/controls",
      "model_module_version": "2.0.0",
      "model_name": "HTMLStyleModel",
      "state": {
       "_model_module": "@jupyter-widgets/controls",
       "_model_module_version": "2.0.0",
       "_model_name": "HTMLStyleModel",
       "_view_count": null,
       "_view_module": "@jupyter-widgets/base",
       "_view_module_version": "2.0.0",
       "_view_name": "StyleView",
       "background": null,
       "description_width": "",
       "font_size": null,
       "text_color": null
      }
     },
     "535cc8f975af47de8955ae36f2730262": {
      "model_module": "@jupyter-widgets/base",
      "model_module_version": "2.0.0",
      "model_name": "LayoutModel",
      "state": {
       "_model_module": "@jupyter-widgets/base",
       "_model_module_version": "2.0.0",
       "_model_name": "LayoutModel",
       "_view_count": null,
       "_view_module": "@jupyter-widgets/base",
       "_view_module_version": "2.0.0",
       "_view_name": "LayoutView",
       "align_content": null,
       "align_items": null,
       "align_self": null,
       "border_bottom": null,
       "border_left": null,
       "border_right": null,
       "border_top": null,
       "bottom": null,
       "display": null,
       "flex": null,
       "flex_flow": null,
       "grid_area": null,
       "grid_auto_columns": null,
       "grid_auto_flow": null,
       "grid_auto_rows": null,
       "grid_column": null,
       "grid_gap": null,
       "grid_row": null,
       "grid_template_areas": null,
       "grid_template_columns": null,
       "grid_template_rows": null,
       "height": null,
       "justify_content": null,
       "justify_items": null,
       "left": null,
       "margin": null,
       "max_height": null,
       "max_width": null,
       "min_height": null,
       "min_width": null,
       "object_fit": null,
       "object_position": null,
       "order": null,
       "overflow": null,
       "padding": null,
       "right": null,
       "top": null,
       "visibility": null,
       "width": null
      }
     },
     "57688e3b0be94836965328ae26c0241b": {
      "model_module": "@jupyter-widgets/controls",
      "model_module_version": "2.0.0",
      "model_name": "HTMLModel",
      "state": {
       "_dom_classes": [],
       "_model_module": "@jupyter-widgets/controls",
       "_model_module_version": "2.0.0",
       "_model_name": "HTMLModel",
       "_view_count": null,
       "_view_module": "@jupyter-widgets/controls",
       "_view_module_version": "2.0.0",
       "_view_name": "HTMLView",
       "description": "",
       "description_allow_html": false,
       "layout": "IPY_MODEL_26dab1dc47b24bde9e4e4b893f40ae2e",
       "placeholder": "​",
       "style": "IPY_MODEL_49260c5ed7e44d9a926bb91e99968793",
       "tabbable": null,
       "tooltip": null,
       "value": " 7823/7823 [00:00&lt;00:00, 269176.20it/s]"
      }
     },
     "69396ad45bcf45d4a9681773da3e40d4": {
      "model_module": "@jupyter-widgets/controls",
      "model_module_version": "2.0.0",
      "model_name": "HTMLModel",
      "state": {
       "_dom_classes": [],
       "_model_module": "@jupyter-widgets/controls",
       "_model_module_version": "2.0.0",
       "_model_name": "HTMLModel",
       "_view_count": null,
       "_view_module": "@jupyter-widgets/controls",
       "_view_module_version": "2.0.0",
       "_view_name": "HTMLView",
       "description": "",
       "description_allow_html": false,
       "layout": "IPY_MODEL_a30ed549884643abb1c945bd6eb621e7",
       "placeholder": "​",
       "style": "IPY_MODEL_d8c7c8df618047b4ac62464134536c43",
       "tabbable": null,
       "tooltip": null,
       "value": " 7823/7823 [00:00&lt;00:00, 341358.28it/s]"
      }
     },
     "69613e260f89481cbe943980e3eff569": {
      "model_module": "@jupyter-widgets/controls",
      "model_module_version": "2.0.0",
      "model_name": "FloatProgressModel",
      "state": {
       "_dom_classes": [],
       "_model_module": "@jupyter-widgets/controls",
       "_model_module_version": "2.0.0",
       "_model_name": "FloatProgressModel",
       "_view_count": null,
       "_view_module": "@jupyter-widgets/controls",
       "_view_module_version": "2.0.0",
       "_view_name": "ProgressView",
       "bar_style": "success",
       "description": "",
       "description_allow_html": false,
       "layout": "IPY_MODEL_9f9eec24d9c940c98a29ddd2a769c25f",
       "max": 7823.0,
       "min": 0.0,
       "orientation": "horizontal",
       "style": "IPY_MODEL_f9845b105bc84d128bec59dfa04c40f8",
       "tabbable": null,
       "tooltip": null,
       "value": 7823.0
      }
     },
     "819892d097c84b5bbf355ca70ee061d7": {
      "model_module": "@jupyter-widgets/controls",
      "model_module_version": "2.0.0",
      "model_name": "HTMLModel",
      "state": {
       "_dom_classes": [],
       "_model_module": "@jupyter-widgets/controls",
       "_model_module_version": "2.0.0",
       "_model_name": "HTMLModel",
       "_view_count": null,
       "_view_module": "@jupyter-widgets/controls",
       "_view_module_version": "2.0.0",
       "_view_name": "HTMLView",
       "description": "",
       "description_allow_html": false,
       "layout": "IPY_MODEL_535cc8f975af47de8955ae36f2730262",
       "placeholder": "​",
       "style": "IPY_MODEL_a73867d9b0414ad4aa7dc8125a9ce28c",
       "tabbable": null,
       "tooltip": null,
       "value": "Pandas Apply: 100%"
      }
     },
     "8c3e1b277d8444849febc436fed94781": {
      "model_module": "@jupyter-widgets/base",
      "model_module_version": "2.0.0",
      "model_name": "LayoutModel",
      "state": {
       "_model_module": "@jupyter-widgets/base",
       "_model_module_version": "2.0.0",
       "_model_name": "LayoutModel",
       "_view_count": null,
       "_view_module": "@jupyter-widgets/base",
       "_view_module_version": "2.0.0",
       "_view_name": "LayoutView",
       "align_content": null,
       "align_items": null,
       "align_self": null,
       "border_bottom": null,
       "border_left": null,
       "border_right": null,
       "border_top": null,
       "bottom": null,
       "display": null,
       "flex": null,
       "flex_flow": null,
       "grid_area": null,
       "grid_auto_columns": null,
       "grid_auto_flow": null,
       "grid_auto_rows": null,
       "grid_column": null,
       "grid_gap": null,
       "grid_row": null,
       "grid_template_areas": null,
       "grid_template_columns": null,
       "grid_template_rows": null,
       "height": null,
       "justify_content": null,
       "justify_items": null,
       "left": null,
       "margin": null,
       "max_height": null,
       "max_width": null,
       "min_height": null,
       "min_width": null,
       "object_fit": null,
       "object_position": null,
       "order": null,
       "overflow": null,
       "padding": null,
       "right": null,
       "top": null,
       "visibility": null,
       "width": null
      }
     },
     "9f9eec24d9c940c98a29ddd2a769c25f": {
      "model_module": "@jupyter-widgets/base",
      "model_module_version": "2.0.0",
      "model_name": "LayoutModel",
      "state": {
       "_model_module": "@jupyter-widgets/base",
       "_model_module_version": "2.0.0",
       "_model_name": "LayoutModel",
       "_view_count": null,
       "_view_module": "@jupyter-widgets/base",
       "_view_module_version": "2.0.0",
       "_view_name": "LayoutView",
       "align_content": null,
       "align_items": null,
       "align_self": null,
       "border_bottom": null,
       "border_left": null,
       "border_right": null,
       "border_top": null,
       "bottom": null,
       "display": null,
       "flex": null,
       "flex_flow": null,
       "grid_area": null,
       "grid_auto_columns": null,
       "grid_auto_flow": null,
       "grid_auto_rows": null,
       "grid_column": null,
       "grid_gap": null,
       "grid_row": null,
       "grid_template_areas": null,
       "grid_template_columns": null,
       "grid_template_rows": null,
       "height": null,
       "justify_content": null,
       "justify_items": null,
       "left": null,
       "margin": null,
       "max_height": null,
       "max_width": null,
       "min_height": null,
       "min_width": null,
       "object_fit": null,
       "object_position": null,
       "order": null,
       "overflow": null,
       "padding": null,
       "right": null,
       "top": null,
       "visibility": null,
       "width": null
      }
     },
     "a1f39ca6dd844b388f3f197a57181b43": {
      "model_module": "@jupyter-widgets/base",
      "model_module_version": "2.0.0",
      "model_name": "LayoutModel",
      "state": {
       "_model_module": "@jupyter-widgets/base",
       "_model_module_version": "2.0.0",
       "_model_name": "LayoutModel",
       "_view_count": null,
       "_view_module": "@jupyter-widgets/base",
       "_view_module_version": "2.0.0",
       "_view_name": "LayoutView",
       "align_content": null,
       "align_items": null,
       "align_self": null,
       "border_bottom": null,
       "border_left": null,
       "border_right": null,
       "border_top": null,
       "bottom": null,
       "display": null,
       "flex": null,
       "flex_flow": null,
       "grid_area": null,
       "grid_auto_columns": null,
       "grid_auto_flow": null,
       "grid_auto_rows": null,
       "grid_column": null,
       "grid_gap": null,
       "grid_row": null,
       "grid_template_areas": null,
       "grid_template_columns": null,
       "grid_template_rows": null,
       "height": null,
       "justify_content": null,
       "justify_items": null,
       "left": null,
       "margin": null,
       "max_height": null,
       "max_width": null,
       "min_height": null,
       "min_width": null,
       "object_fit": null,
       "object_position": null,
       "order": null,
       "overflow": null,
       "padding": null,
       "right": null,
       "top": null,
       "visibility": null,
       "width": null
      }
     },
     "a30ed549884643abb1c945bd6eb621e7": {
      "model_module": "@jupyter-widgets/base",
      "model_module_version": "2.0.0",
      "model_name": "LayoutModel",
      "state": {
       "_model_module": "@jupyter-widgets/base",
       "_model_module_version": "2.0.0",
       "_model_name": "LayoutModel",
       "_view_count": null,
       "_view_module": "@jupyter-widgets/base",
       "_view_module_version": "2.0.0",
       "_view_name": "LayoutView",
       "align_content": null,
       "align_items": null,
       "align_self": null,
       "border_bottom": null,
       "border_left": null,
       "border_right": null,
       "border_top": null,
       "bottom": null,
       "display": null,
       "flex": null,
       "flex_flow": null,
       "grid_area": null,
       "grid_auto_columns": null,
       "grid_auto_flow": null,
       "grid_auto_rows": null,
       "grid_column": null,
       "grid_gap": null,
       "grid_row": null,
       "grid_template_areas": null,
       "grid_template_columns": null,
       "grid_template_rows": null,
       "height": null,
       "justify_content": null,
       "justify_items": null,
       "left": null,
       "margin": null,
       "max_height": null,
       "max_width": null,
       "min_height": null,
       "min_width": null,
       "object_fit": null,
       "object_position": null,
       "order": null,
       "overflow": null,
       "padding": null,
       "right": null,
       "top": null,
       "visibility": null,
       "width": null
      }
     },
     "a73867d9b0414ad4aa7dc8125a9ce28c": {
      "model_module": "@jupyter-widgets/controls",
      "model_module_version": "2.0.0",
      "model_name": "HTMLStyleModel",
      "state": {
       "_model_module": "@jupyter-widgets/controls",
       "_model_module_version": "2.0.0",
       "_model_name": "HTMLStyleModel",
       "_view_count": null,
       "_view_module": "@jupyter-widgets/base",
       "_view_module_version": "2.0.0",
       "_view_name": "StyleView",
       "background": null,
       "description_width": "",
       "font_size": null,
       "text_color": null
      }
     },
     "a88b4922555f40f193d5af14c3f2f403": {
      "model_module": "@jupyter-widgets/controls",
      "model_module_version": "2.0.0",
      "model_name": "HTMLStyleModel",
      "state": {
       "_model_module": "@jupyter-widgets/controls",
       "_model_module_version": "2.0.0",
       "_model_name": "HTMLStyleModel",
       "_view_count": null,
       "_view_module": "@jupyter-widgets/base",
       "_view_module_version": "2.0.0",
       "_view_name": "StyleView",
       "background": null,
       "description_width": "",
       "font_size": null,
       "text_color": null
      }
     },
     "be602ad6361040d09d175f790016dddf": {
      "model_module": "@jupyter-widgets/controls",
      "model_module_version": "2.0.0",
      "model_name": "HTMLModel",
      "state": {
       "_dom_classes": [],
       "_model_module": "@jupyter-widgets/controls",
       "_model_module_version": "2.0.0",
       "_model_name": "HTMLModel",
       "_view_count": null,
       "_view_module": "@jupyter-widgets/controls",
       "_view_module_version": "2.0.0",
       "_view_name": "HTMLView",
       "description": "",
       "description_allow_html": false,
       "layout": "IPY_MODEL_8c3e1b277d8444849febc436fed94781",
       "placeholder": "​",
       "style": "IPY_MODEL_a88b4922555f40f193d5af14c3f2f403",
       "tabbable": null,
       "tooltip": null,
       "value": "Pandas Apply: 100%"
      }
     },
     "d8c7c8df618047b4ac62464134536c43": {
      "model_module": "@jupyter-widgets/controls",
      "model_module_version": "2.0.0",
      "model_name": "HTMLStyleModel",
      "state": {
       "_model_module": "@jupyter-widgets/controls",
       "_model_module_version": "2.0.0",
       "_model_name": "HTMLStyleModel",
       "_view_count": null,
       "_view_module": "@jupyter-widgets/base",
       "_view_module_version": "2.0.0",
       "_view_name": "StyleView",
       "background": null,
       "description_width": "",
       "font_size": null,
       "text_color": null
      }
     },
     "dd347a3f1d4a46ee899249a4e38b213c": {
      "model_module": "@jupyter-widgets/base",
      "model_module_version": "2.0.0",
      "model_name": "LayoutModel",
      "state": {
       "_model_module": "@jupyter-widgets/base",
       "_model_module_version": "2.0.0",
       "_model_name": "LayoutModel",
       "_view_count": null,
       "_view_module": "@jupyter-widgets/base",
       "_view_module_version": "2.0.0",
       "_view_name": "LayoutView",
       "align_content": null,
       "align_items": null,
       "align_self": null,
       "border_bottom": null,
       "border_left": null,
       "border_right": null,
       "border_top": null,
       "bottom": null,
       "display": null,
       "flex": null,
       "flex_flow": null,
       "grid_area": null,
       "grid_auto_columns": null,
       "grid_auto_flow": null,
       "grid_auto_rows": null,
       "grid_column": null,
       "grid_gap": null,
       "grid_row": null,
       "grid_template_areas": null,
       "grid_template_columns": null,
       "grid_template_rows": null,
       "height": null,
       "justify_content": null,
       "justify_items": null,
       "left": null,
       "margin": null,
       "max_height": null,
       "max_width": null,
       "min_height": null,
       "min_width": null,
       "object_fit": null,
       "object_position": null,
       "order": null,
       "overflow": null,
       "padding": null,
       "right": null,
       "top": null,
       "visibility": null,
       "width": null
      }
     },
     "e1c7f1e76eb440a28f948faecb0bbb81": {
      "model_module": "@jupyter-widgets/controls",
      "model_module_version": "2.0.0",
      "model_name": "HBoxModel",
      "state": {
       "_dom_classes": [],
       "_model_module": "@jupyter-widgets/controls",
       "_model_module_version": "2.0.0",
       "_model_name": "HBoxModel",
       "_view_count": null,
       "_view_module": "@jupyter-widgets/controls",
       "_view_module_version": "2.0.0",
       "_view_name": "HBoxView",
       "box_style": "",
       "children": [
        "IPY_MODEL_be602ad6361040d09d175f790016dddf",
        "IPY_MODEL_69613e260f89481cbe943980e3eff569",
        "IPY_MODEL_57688e3b0be94836965328ae26c0241b"
       ],
       "layout": "IPY_MODEL_f6e1d031eadd44049375bfb95da3074e",
       "tabbable": null,
       "tooltip": null
      }
     },
     "f6e1d031eadd44049375bfb95da3074e": {
      "model_module": "@jupyter-widgets/base",
      "model_module_version": "2.0.0",
      "model_name": "LayoutModel",
      "state": {
       "_model_module": "@jupyter-widgets/base",
       "_model_module_version": "2.0.0",
       "_model_name": "LayoutModel",
       "_view_count": null,
       "_view_module": "@jupyter-widgets/base",
       "_view_module_version": "2.0.0",
       "_view_name": "LayoutView",
       "align_content": null,
       "align_items": null,
       "align_self": null,
       "border_bottom": null,
       "border_left": null,
       "border_right": null,
       "border_top": null,
       "bottom": null,
       "display": null,
       "flex": null,
       "flex_flow": null,
       "grid_area": null,
       "grid_auto_columns": null,
       "grid_auto_flow": null,
       "grid_auto_rows": null,
       "grid_column": null,
       "grid_gap": null,
       "grid_row": null,
       "grid_template_areas": null,
       "grid_template_columns": null,
       "grid_template_rows": null,
       "height": null,
       "justify_content": null,
       "justify_items": null,
       "left": null,
       "margin": null,
       "max_height": null,
       "max_width": null,
       "min_height": null,
       "min_width": null,
       "object_fit": null,
       "object_position": null,
       "order": null,
       "overflow": null,
       "padding": null,
       "right": null,
       "top": null,
       "visibility": null,
       "width": null
      }
     },
     "f9845b105bc84d128bec59dfa04c40f8": {
      "model_module": "@jupyter-widgets/controls",
      "model_module_version": "2.0.0",
      "model_name": "ProgressStyleModel",
      "state": {
       "_model_module": "@jupyter-widgets/controls",
       "_model_module_version": "2.0.0",
       "_model_name": "ProgressStyleModel",
       "_view_count": null,
       "_view_module": "@jupyter-widgets/base",
       "_view_module_version": "2.0.0",
       "_view_name": "StyleView",
       "bar_color": null,
       "description_width": ""
      }
     }
    },
    "version_major": 2,
    "version_minor": 0
   }
  }
 },
 "nbformat": 4,
 "nbformat_minor": 5
}
